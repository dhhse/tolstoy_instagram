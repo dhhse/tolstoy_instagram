{
 "cells": [
  {
   "cell_type": "code",
   "execution_count": 153,
   "metadata": {},
   "outputs": [],
   "source": [
    "import os\n",
    "import re\n",
    "\n",
    "import pandas as pd\n",
    "\n",
    "from bs4 import BeautifulSoup\n",
    "from tqdm import tqdm"
   ]
  },
  {
   "cell_type": "code",
   "execution_count": 150,
   "metadata": {},
   "outputs": [],
   "source": [
    "def convert_to_8digit(photo_id):\n",
    "    return \"0\" * (8 - len(photo_id)) + photo_id"
   ]
  },
  {
   "cell_type": "code",
   "execution_count": 151,
   "metadata": {
    "scrolled": true
   },
   "outputs": [
    {
     "data": {
      "text/html": [
       "<div>\n",
       "<style scoped>\n",
       "    .dataframe tbody tr th:only-of-type {\n",
       "        vertical-align: middle;\n",
       "    }\n",
       "\n",
       "    .dataframe tbody tr th {\n",
       "        vertical-align: top;\n",
       "    }\n",
       "\n",
       "    .dataframe thead th {\n",
       "        text-align: right;\n",
       "    }\n",
       "</style>\n",
       "<table border=\"1\" class=\"dataframe\">\n",
       "  <thead>\n",
       "    <tr style=\"text-align: right;\">\n",
       "      <th></th>\n",
       "      <th>id</th>\n",
       "      <th>AUTHOR</th>\n",
       "      <th>COMPNAM</th>\n",
       "      <th>CREAT</th>\n",
       "      <th>CREAT1</th>\n",
       "      <th>CREAT2</th>\n",
       "      <th>DESCRI</th>\n",
       "      <th>GEOGR</th>\n",
       "      <th>IDENTIF</th>\n",
       "      <th>INSCR</th>\n",
       "      <th>...</th>\n",
       "      <th>IZGOT</th>\n",
       "      <th>NCOMP</th>\n",
       "      <th>NFOND</th>\n",
       "      <th>SIZES</th>\n",
       "      <th>SPIEX</th>\n",
       "      <th>SPIRUBR</th>\n",
       "      <th>VLAD</th>\n",
       "      <th>path_xml</th>\n",
       "      <th>path_miniature</th>\n",
       "      <th>path_fullsize</th>\n",
       "    </tr>\n",
       "  </thead>\n",
       "  <tbody>\n",
       "    <tr>\n",
       "      <td>0</td>\n",
       "      <td>00115964</td>\n",
       "      <td>Кулаков П.Е.</td>\n",
       "      <td>Фотография для стереоскопа</td>\n",
       "      <td>1908</td>\n",
       "      <td>1908</td>\n",
       "      <td>1908</td>\n",
       "      <td>-1</td>\n",
       "      <td>Ясная Поляна</td>\n",
       "      <td>ГМТ КП-11486/21</td>\n",
       "      <td>-1</td>\n",
       "      <td>...</td>\n",
       "      <td>Стереоскопическое издательство \"Свет\"</td>\n",
       "      <td>-1</td>\n",
       "      <td>Фотофонд</td>\n",
       "      <td>7,4х7,1 (одна фотография) 8,8х17,9 (бланк)</td>\n",
       "      <td>-1</td>\n",
       "      <td>Портреты (в т.ч. групповые)</td>\n",
       "      <td>Баскаков Л.И.</td>\n",
       "      <td>./xmls/00115964.xml</td>\n",
       "      <td>./miniatures/00115964.xml</td>\n",
       "      <td>./fullsize/00115964.xml</td>\n",
       "    </tr>\n",
       "    <tr>\n",
       "      <td>1</td>\n",
       "      <td>00136165</td>\n",
       "      <td>Бодянский И.А.</td>\n",
       "      <td>Увеличенный переснимок</td>\n",
       "      <td>1903 г.</td>\n",
       "      <td>1903</td>\n",
       "      <td>1903</td>\n",
       "      <td>-1</td>\n",
       "      <td>Ясная Поляна</td>\n",
       "      <td>ГМТ КП-5954/3</td>\n",
       "      <td>-1</td>\n",
       "      <td>...</td>\n",
       "      <td>-1</td>\n",
       "      <td>-1</td>\n",
       "      <td>Фотофонд</td>\n",
       "      <td>17,8х23,5</td>\n",
       "      <td>-1</td>\n",
       "      <td>1900-е годы (юбилей в 1908г – отдельная рубрика)</td>\n",
       "      <td>Долинино-Иванская Александра Леонидовна (Толстая)</td>\n",
       "      <td>./xmls/00136165.xml</td>\n",
       "      <td>./miniatures/00136165.xml</td>\n",
       "      <td>./fullsize/00136165.xml</td>\n",
       "    </tr>\n",
       "    <tr>\n",
       "      <td>2</td>\n",
       "      <td>00136603</td>\n",
       "      <td>Смирнов</td>\n",
       "      <td>-1</td>\n",
       "      <td>9 ноября 1910 г.</td>\n",
       "      <td>1910</td>\n",
       "      <td>1910</td>\n",
       "      <td>-1</td>\n",
       "      <td>Ясная Поляна</td>\n",
       "      <td>ГМТ КП-5680/6</td>\n",
       "      <td>-1</td>\n",
       "      <td>...</td>\n",
       "      <td>-1</td>\n",
       "      <td>-1</td>\n",
       "      <td>Фотофонд</td>\n",
       "      <td>10,3х16,5</td>\n",
       "      <td>-1</td>\n",
       "      <td>Похороны Л.Н.Толстого в Ясной Поляне</td>\n",
       "      <td>Замятина Н. П.</td>\n",
       "      <td>./xmls/00136603.xml</td>\n",
       "      <td>./miniatures/00136603.xml</td>\n",
       "      <td>./fullsize/00136603.xml</td>\n",
       "    </tr>\n",
       "    <tr>\n",
       "      <td>3</td>\n",
       "      <td>00106918</td>\n",
       "      <td>Соловьев В.С.</td>\n",
       "      <td>Две могилы в общей чугунной ограде. За решётко...</td>\n",
       "      <td>1932 г.</td>\n",
       "      <td>1932</td>\n",
       "      <td>1932</td>\n",
       "      <td>-1</td>\n",
       "      <td>с. Никольское Московской губ.</td>\n",
       "      <td>ГМТ КП-7448/1</td>\n",
       "      <td>-1</td>\n",
       "      <td>...</td>\n",
       "      <td>-1</td>\n",
       "      <td>-1</td>\n",
       "      <td>Фотофонд</td>\n",
       "      <td>10,3х16,7</td>\n",
       "      <td>-1</td>\n",
       "      <td>Могилы и похороны разных лиц</td>\n",
       "      <td>Соловьев Владимир Сергеевич</td>\n",
       "      <td>./xmls/00106918.xml</td>\n",
       "      <td>./miniatures/00106918.xml</td>\n",
       "      <td>./fullsize/00106918.xml</td>\n",
       "    </tr>\n",
       "    <tr>\n",
       "      <td>4</td>\n",
       "      <td>00142182</td>\n",
       "      <td>-1</td>\n",
       "      <td>-1</td>\n",
       "      <td>1930-е гг.?</td>\n",
       "      <td>1930</td>\n",
       "      <td>1939</td>\n",
       "      <td>-1</td>\n",
       "      <td>-1</td>\n",
       "      <td>ГМТ КП-13123/82</td>\n",
       "      <td>-1</td>\n",
       "      <td>...</td>\n",
       "      <td>-1</td>\n",
       "      <td>Альбом фотографий Е.С. Денисенко.</td>\n",
       "      <td>Фотофонд</td>\n",
       "      <td>6,0х5,4</td>\n",
       "      <td>-1</td>\n",
       "      <td>Писатели, поэты, литераторы</td>\n",
       "      <td>из архива Денисенко Е.С.</td>\n",
       "      <td>./xmls/00142182.xml</td>\n",
       "      <td>./miniatures/00142182.xml</td>\n",
       "      <td>./fullsize/00142182.xml</td>\n",
       "    </tr>\n",
       "  </tbody>\n",
       "</table>\n",
       "<p>5 rows × 22 columns</p>\n",
       "</div>"
      ],
      "text/plain": [
       "         id          AUTHOR  \\\n",
       "0  00115964    Кулаков П.Е.   \n",
       "1  00136165  Бодянский И.А.   \n",
       "2  00136603         Смирнов   \n",
       "3  00106918   Соловьев В.С.   \n",
       "4  00142182              -1   \n",
       "\n",
       "                                             COMPNAM             CREAT  \\\n",
       "0                         Фотография для стереоскопа              1908   \n",
       "1                             Увеличенный переснимок           1903 г.   \n",
       "2                                                 -1  9 ноября 1910 г.   \n",
       "3  Две могилы в общей чугунной ограде. За решётко...           1932 г.   \n",
       "4                                                 -1       1930-е гг.?   \n",
       "\n",
       "   CREAT1  CREAT2 DESCRI                          GEOGR          IDENTIF  \\\n",
       "0    1908    1908     -1                   Ясная Поляна  ГМТ КП-11486/21   \n",
       "1    1903    1903     -1                   Ясная Поляна    ГМТ КП-5954/3   \n",
       "2    1910    1910     -1                   Ясная Поляна    ГМТ КП-5680/6   \n",
       "3    1932    1932     -1  с. Никольское Московской губ.    ГМТ КП-7448/1   \n",
       "4    1930    1939     -1                             -1  ГМТ КП-13123/82   \n",
       "\n",
       "  INSCR  ...                                  IZGOT  \\\n",
       "0    -1  ...  Стереоскопическое издательство \"Свет\"   \n",
       "1    -1  ...                                     -1   \n",
       "2    -1  ...                                     -1   \n",
       "3    -1  ...                                     -1   \n",
       "4    -1  ...                                     -1   \n",
       "\n",
       "                               NCOMP     NFOND  \\\n",
       "0                                 -1  Фотофонд   \n",
       "1                                 -1  Фотофонд   \n",
       "2                                 -1  Фотофонд   \n",
       "3                                 -1  Фотофонд   \n",
       "4  Альбом фотографий Е.С. Денисенко.  Фотофонд   \n",
       "\n",
       "                                        SIZES SPIEX  \\\n",
       "0  7,4х7,1 (одна фотография) 8,8х17,9 (бланк)    -1   \n",
       "1                                   17,8х23,5    -1   \n",
       "2                                   10,3х16,5    -1   \n",
       "3                                   10,3х16,7    -1   \n",
       "4                                     6,0х5,4    -1   \n",
       "\n",
       "                                            SPIRUBR  \\\n",
       "0                       Портреты (в т.ч. групповые)   \n",
       "1  1900-е годы (юбилей в 1908г – отдельная рубрика)   \n",
       "2              Похороны Л.Н.Толстого в Ясной Поляне   \n",
       "3                      Могилы и похороны разных лиц   \n",
       "4                       Писатели, поэты, литераторы   \n",
       "\n",
       "                                                VLAD             path_xml  \\\n",
       "0                                      Баскаков Л.И.  ./xmls/00115964.xml   \n",
       "1  Долинино-Иванская Александра Леонидовна (Толстая)  ./xmls/00136165.xml   \n",
       "2                                     Замятина Н. П.  ./xmls/00136603.xml   \n",
       "3                        Соловьев Владимир Сергеевич  ./xmls/00106918.xml   \n",
       "4                           из архива Денисенко Е.С.  ./xmls/00142182.xml   \n",
       "\n",
       "              path_miniature            path_fullsize  \n",
       "0  ./miniatures/00115964.xml  ./fullsize/00115964.xml  \n",
       "1  ./miniatures/00136165.xml  ./fullsize/00136165.xml  \n",
       "2  ./miniatures/00136603.xml  ./fullsize/00136603.xml  \n",
       "3  ./miniatures/00106918.xml  ./fullsize/00106918.xml  \n",
       "4  ./miniatures/00142182.xml  ./fullsize/00142182.xml  \n",
       "\n",
       "[5 rows x 22 columns]"
      ]
     },
     "execution_count": 151,
     "metadata": {},
     "output_type": "execute_result"
    }
   ],
   "source": [
    "df = pd.read_csv(\"./datasets/tolstoy_photos_no_empty_columns.csv\", sep=\";\", encoding=\"utf-8\")\n",
    "df[\"id\"] = df[\"id\"].astype(\"str\").apply(convert_to_8digit)\n",
    "df.head()"
   ]
  },
  {
   "cell_type": "markdown",
   "metadata": {},
   "source": [
    "# `<titleStmt>`"
   ]
  },
  {
   "cell_type": "code",
   "execution_count": 155,
   "metadata": {},
   "outputs": [],
   "source": [
    "def assemble_title_stmt(row_dict):\n",
    "    if row_dict[\"AUTHOR\"] != \"-1\":\n",
    "        author = \"<author>{}</author>\".format(row_dict[\"AUTHOR\"])\n",
    "    else:\n",
    "        author = \"\"\n",
    "    funder = \"<funder>Государственный музей Л.Н. Толстого</funder>\"\n",
    "    titleStmt = \"<titleStmt>{}{}</titleStmt>\".format(author, funder)\n",
    "    return titleStmt"
   ]
  },
  {
   "cell_type": "markdown",
   "metadata": {},
   "source": [
    "# `<publicationStmt>`"
   ]
  },
  {
   "cell_type": "code",
   "execution_count": 133,
   "metadata": {},
   "outputs": [],
   "source": [
    "def assemble_publication_stmt(row_dict):\n",
    "    acquisition = \"<acquisition>{}</acquisition>\".format(row_dict[\"IWAY\"]) \\\n",
    "                if row_dict[\"IWAY\"] != \"-1\" else \"\"\n",
    "    nfond = \"<collection type=\\\"nfond\\\">{}</collection>\".format(row_dict[\"NFOND\"]) \\\n",
    "            if row_dict[\"NFOND\"] != \"-1\" else \"\"\n",
    "    spiex = \"<collection type=\\\"spiex\\\">{}</collection>\".format(row_dict[\"SPIEX\"]) \\\n",
    "            if row_dict[\"SPIEX\"] != \"-1\" else \"\"\n",
    "    identif = \"<idno type=\\\"identif\\\">{}</idno>\".format(row_dict[\"IDENTIF\"]) \\\n",
    "            if row_dict[\"IDENTIF\"] != \"-1\" else \"\"\n",
    "    inv = \"<idno type=\\\"inv\\\">{}</idno>\".format(row_dict[\"INV\"]) \\\n",
    "        if row_dict[\"INV\"] != \"-1\" else \"\"\n",
    "    category = \"<category>{}</category>\".format(row_dict[\"SPIRUBR\"]) \\\n",
    "            if row_dict[\"SPIRUBR\"] != \"-1\" else \"\"\n",
    "    publisher = \"<publisher>{}</publisher>\".format(row_dict[\"VLAD\"]) \\\n",
    "            if row_dict[\"VLAD\"] != \"-1\" else \"\"\n",
    "    publicationStmt = \"<publicationStmt>{}{}{}{}{}{}{}</publicationStmt>\".format(acquisition, \n",
    "                        nfond, spiex, identif, inv, category, publisher)\n",
    "    return publicationStmt"
   ]
  },
  {
   "cell_type": "markdown",
   "metadata": {},
   "source": [
    "Проверка:"
   ]
  },
  {
   "cell_type": "code",
   "execution_count": 134,
   "metadata": {
    "scrolled": true
   },
   "outputs": [
    {
     "name": "stdout",
     "output_type": "stream",
     "text": [
      "<publicationStmt>\n",
      "  <acquisition>Закупка</acquisition>\n",
      "  <collection type=\"nfond\">Фотофонд</collection>\n",
      "  <idno type=\"identif\">ГМТ КП-10419</idno>\n",
      "  <idno type=\"inv\">Ф-9603</idno>\n",
      "  <category>Дороги от станции к Усадьбе</category>\n",
      "  <publisher>Шмелькин М. Г.</publisher>\n",
      "</publicationStmt>\n",
      "\n"
     ]
    }
   ],
   "source": [
    "stmt = assemble_publication_stmt(sample_dict)\n",
    "root = etree.fromstring(stmt)\n",
    "print(etree.tostring(root, pretty_print=True, encoding=\"utf-8\").decode())"
   ]
  },
  {
   "cell_type": "markdown",
   "metadata": {},
   "source": [
    "# `<sourceDesc>`"
   ]
  },
  {
   "cell_type": "code",
   "execution_count": 100,
   "metadata": {},
   "outputs": [],
   "source": [
    "def extract_creat(row_dict):\n",
    "    if row_dict[\"CREAT\"] == \"-1\":\n",
    "        dateCreat = \"\"\n",
    "        if row_dict[\"CREAT1\"] != \"-1\":\n",
    "            dateCreat += \"<date type=\\\"created notBefore\\\">{}</date>\".format(row_dict[\"CREAT1\"])\n",
    "        if row_dict[\"CREAT2\"] != \"-1\":\n",
    "            dateCreat += \"<date type=\\\"created notAfter\\\">{}</date>\".format(row_dict[\"CREAT2\"])\n",
    "    else:\n",
    "        dateCreat = \"<date type=\\\"created\\\">{}</date>\".format(row_dict[\"CREAT\"])\n",
    "    return dateCreat"
   ]
  },
  {
   "cell_type": "code",
   "execution_count": 59,
   "metadata": {},
   "outputs": [],
   "source": [
    "def extract_sizes(sizes_str, reg_sizes):\n",
    "    extraction = re.search(reg_sizes, line)\n",
    "    width = extraction.group(1)\n",
    "    height = extraction.group(2)\n",
    "    return width, height"
   ]
  },
  {
   "cell_type": "code",
   "execution_count": 141,
   "metadata": {},
   "outputs": [],
   "source": [
    "def assemble_source_desc(row_dict, reg_sizes):\n",
    "    origPlace = \"<origPlace>{}</origPlace>\".format(row_dict[\"GEOGR\"]) \\\n",
    "        if row_dict[\"GEOGR\"] != \"-1\" else \"\"\n",
    "    dateCreat = extract_creat(row_dict)\n",
    "    distributor = \"<distributor>{}</distributor>\".format(row_dict[\"IZGOT\"]) \\\n",
    "        if row_dict[\"IZGOT\"] != \"-1\" else \"\"\n",
    "    source = \"<source>{}</source>\".format(row_dict[\"NCOMP\"]) \\\n",
    "        if row_dict[\"NCOMP\"] != \"-1\" else \"\"\n",
    "    if row_dict[\"SIZES\"] != \"-1\":\n",
    "        width, height = extract_sizes(row_dict[\"SIZES\"], reg_sizes)\n",
    "        dimensions = \"<dimensions><width>{} см</width><height>{} см</height></dimensions>\".format(width, height)\n",
    "    else:\n",
    "        dimensions = \"\"\n",
    "    desc = \"<desc>{}</desc>\".format(row_dict[\"COMPNAM\"]) \\\n",
    "        if row_dict[\"COMPNAM\"] != \"-1\" else \"\"\n",
    "    metamark = \"<metamark>{}</metamark>\".format(row_dict[\"INSCR\"]) \\\n",
    "        if row_dict[\"INSCR\"] != \"-1\" else \"\"\n",
    "    sourceDesc = \"<sourceDesc>{}{}{}{}{}{}{}</sourceDesc>\".format(origPlace, \n",
    "                dateCreat, distributor, source, dimensions, desc, metamark)\n",
    "    return sourceDesc"
   ]
  },
  {
   "cell_type": "markdown",
   "metadata": {},
   "source": [
    "Проверка:"
   ]
  },
  {
   "cell_type": "code",
   "execution_count": 143,
   "metadata": {
    "scrolled": false
   },
   "outputs": [
    {
     "name": "stdout",
     "output_type": "stream",
     "text": [
      "<sourceDesc>\n",
      "  <origPlace>Ясная Поляна</origPlace>\n",
      "  <date type=\"created\">1903 г.</date>\n",
      "  <dimensions>\n",
      "    <width>7,4 см</width>\n",
      "    <height>7,1 см</height>\n",
      "  </dimensions>\n",
      "  <desc>Увеличенный переснимок</desc>\n",
      "</sourceDesc>\n",
      "\n"
     ]
    }
   ],
   "source": [
    "stmt = assemble_source_desc(sample_dict, reg_sizes)\n",
    "root = etree.fromstring(stmt)\n",
    "print(etree.tostring(root, pretty_print=True, encoding=\"utf-8\").decode())"
   ]
  },
  {
   "cell_type": "markdown",
   "metadata": {},
   "source": [
    "# `<revisionDesc>`"
   ]
  },
  {
   "cell_type": "code",
   "execution_count": 83,
   "metadata": {},
   "outputs": [],
   "source": [
    "def assemble_revision_desc(row_dict):\n",
    "    return \"<revisionDesc><change when=\\\"2020-04-15\\\">конвертация в TEI из КАМИС</change></revisionDesc>\""
   ]
  },
  {
   "cell_type": "markdown",
   "metadata": {},
   "source": [
    "## Всё вместе"
   ]
  },
  {
   "cell_type": "code",
   "execution_count": 139,
   "metadata": {},
   "outputs": [],
   "source": [
    "# fileDesc\n",
    "title = assemble_title_stmt(sample_dict)\n",
    "publication = assemble_publication_stmt(sample_dict)\n",
    "source = assemble_source_desc(sample_dict)\n",
    "\n",
    "fileDesc = \"<fileDesc>{}{}{}</fileDesc>\".format(title, publication, source)\n",
    "revisionDesc = assemble_revision_desc(sample_dict)\n",
    "\n",
    "XMLHeader = \"<?xml version=\\\"1.0\\\" encoding=\\\"UTF-8\\\"?>\"\n",
    "overallTEI = \"<TEI xmlns=\\\"http://www.tei-c.org/ns/1.0\\\" xml:lang=\\\"rus\\\">\\\n",
    "<teiHeader>{}{}\\\n",
    "</teiHeader></TEI>\".format(fileDesc, revisionDesc)\n",
    "\n",
    "overallXML = XMLHeader + overallTEI"
   ]
  },
  {
   "cell_type": "markdown",
   "metadata": {},
   "source": [
    "# MAIN"
   ]
  },
  {
   "cell_type": "code",
   "execution_count": 156,
   "metadata": {},
   "outputs": [
    {
     "name": "stderr",
     "output_type": "stream",
     "text": [
      "100%|██████████| 4077/4077 [00:07<00:00, 533.88it/s]\n"
     ]
    }
   ],
   "source": [
    "for row in tqdm(range(len(df))):\n",
    "    row_dict = df.iloc[row].to_dict()\n",
    "\n",
    "    photo_id = row_dict[\"id\"]\n",
    "    title = assemble_title_stmt(row_dict)\n",
    "    source = assemble_source_desc(row_dict, reg_sizes)\n",
    "    publication = assemble_publication_stmt(row_dict)\n",
    "\n",
    "    fileDesc = \"<fileDesc>{}{}{}</fileDesc>\".format(title, publication, source)\n",
    "    revisionDesc = assemble_revision_desc(row_dict)\n",
    "\n",
    "    XMLHeader = \"<?xml version=\\\"1.0\\\" encoding=\\\"UTF-8\\\"?>\"\n",
    "    overallTEI = \"<TEI xmlns=\\\"http://www.tei-c.org/ns/1.0\\\" xml:lang=\\\"rus\\\"><teiHeader>{}{}</teiHeader></TEI>\".format(fileDesc, revisionDesc)\n",
    "    overallXML = XMLHeader + overallTEI\n",
    "\n",
    "    soup = BeautifulSoup(overallXML, \"lxml\")\n",
    "    with open(\"./data/tei/{}.xml\".format(photo_id), \"w\", encoding=\"utf-8\") as f:\n",
    "        f.write(soup.prettify())"
   ]
  }
 ],
 "metadata": {
  "kernelspec": {
   "display_name": "Python 3",
   "language": "python",
   "name": "python3"
  },
  "language_info": {
   "codemirror_mode": {
    "name": "ipython",
    "version": 3
   },
   "file_extension": ".py",
   "mimetype": "text/x-python",
   "name": "python",
   "nbconvert_exporter": "python",
   "pygments_lexer": "ipython3",
   "version": "3.6.8"
  }
 },
 "nbformat": 4,
 "nbformat_minor": 2
}
